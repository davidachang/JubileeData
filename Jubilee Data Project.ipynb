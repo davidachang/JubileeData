{
 "cells": [
  {
   "cell_type": "markdown",
   "metadata": {},
   "source": [
    "## Jubilee Data Project"
   ]
  },
  {
   "cell_type": "code",
   "execution_count": 21,
   "metadata": {},
   "outputs": [],
   "source": [
    "import unicodecsv\n",
    "from collections import OrderedDict\n",
    "\n",
    "with open('videodata.csv', 'rb') as f:\n",
    "    reader = unicodecsv.DictReader(f)\n",
    "    videos = list(reader)"
   ]
  },
  {
   "cell_type": "code",
   "execution_count": 27,
   "metadata": {},
   "outputs": [
    {
     "name": "stdout",
     "output_type": "stream",
     "text": [
      "2017-05-07 00:00:00\n",
      "2017-05-14 00:00:00\n",
      "2017-05-16 00:00:00\n",
      "0.0015229999999999998\n",
      "0.00124\n",
      "0.002099\n"
     ]
    }
   ],
   "source": [
    "print(videos[0]['video_created'])\n",
    "print(videos[1]['video_created'])\n",
    "print(videos[2]['video_created'])\n",
    "\n",
    "print(videos[0]['% subscriber conversion'])\n",
    "print(videos[1]['% subscriber conversion'])\n",
    "print(videos[2]['% subscriber conversion'])"
   ]
  },
  {
   "cell_type": "code",
   "execution_count": 23,
   "metadata": {},
   "outputs": [],
   "source": [
    "from datetime import datetime as dt\n",
    "\n",
    "# Takes a date as a string, and returns a Python datetime object. \n",
    "# If there is no date given, returns None\n",
    "def parse_date(date):\n",
    "    if date == '':\n",
    "        return None\n",
    "    else:\n",
    "        return dt.strptime(date, '%m/%d/%Y')\n",
    "    \n",
    "# Takes a string which is either an empty string or represents an integer,\n",
    "# and returns an int or None.\n",
    "def parse_float(f):\n",
    "    if f == '':\n",
    "        return None\n",
    "    else:\n",
    "        return float(f.replace(',',''))\n",
    "\n",
    "# Takes a string which is either an empty string or represents an integer,\n",
    "# and returns an int or None.\n",
    "def parse_int(i):\n",
    "    if i == '':\n",
    "        return None\n",
    "    else:\n",
    "        return int(i.replace(',',''))\n",
    "    \n",
    "# Takes a string which is either an empty string or represents an integer,\n",
    "# and returns an int or None.\n",
    "\n",
    "def parse_percentage(p):\n",
    "    if p == '':\n",
    "        return None\n",
    "    else:\n",
    "        return float(p.strip('%'))/100"
   ]
  },
  {
   "cell_type": "code",
   "execution_count": 24,
   "metadata": {},
   "outputs": [],
   "source": [
    "## Cleanup on extra rows that are not needed\n",
    "\n",
    "for v in videos:\n",
    "    v.pop('clicks_per_card_shown',None)\n",
    "    v.pop('clicks_per_card_teaser_shown',None)\n",
    "    v.pop('clicks_per_end_screen_element_shown',None)\n",
    "    v.pop('subscriber conversion',None)\n",
    "    v.pop(\"\",None)"
   ]
  },
  {
   "cell_type": "code",
   "execution_count": 25,
   "metadata": {},
   "outputs": [],
   "source": [
    "# TODO\n",
    "\n",
    "# Clean up the data types in the video table\n",
    "for video in videos:\n",
    "    video['video_length_minutes'] = parse_float(video['video_length_minutes'])    \n",
    "    video['video_created'] = parse_date(video['video_created'])\n",
    "    video['views'] = parse_int(video['views'])\n",
    "    video['subscribers_gained'] = parse_int(video['subscribers_gained'])\n",
    "    video['% subscriber conversion'] = parse_percentage(video['% subscriber conversion'])\n",
    "    video['average_view_duration'] = parse_float(video['average_view_duration'])\n",
    "    video['watch_time_minutes'] = parse_int(video['watch_time_minutes'])\n",
    "    video['% average_percentage_viewed'] = parse_percentage(video['% average_percentage_viewed'])\n",
    "    video['card_clicks'] = parse_int(video['card_clicks'])\n",
    "    video['cards_shown'] = parse_int(video['cards_shown'])\n",
    "    video['% clicks_per_card_shown'] = parse_percentage(video['% clicks_per_card_shown'])\n",
    "    video['card_teaser_clicks'] = parse_int(video['card_teaser_clicks'])\n",
    "    video['card_teasers_shown'] = parse_int(video['card_teasers_shown'])\n",
    "    video['% clicks_per_card_teaser_shown'] = parse_percentage(video['% clicks_per_card_teaser_shown'])\n",
    "    video['end_screen_elements_shown'] = parse_int(video['end_screen_elements_shown'])\n",
    "    video['end_screen_element_clicks'] = parse_int(video['end_screen_element_clicks'])\n",
    "    video['% clicks_per_end_screen_element_shown'] = parse_percentage(video['% clicks_per_end_screen_element_shown'])\n",
    "    video['estimated_monetized_playbacks'] = parse_int(video['estimated_monetized_playbacks'])\n",
    "    video['ad_impressions'] = parse_int(video['ad_impressions'])\n",
    "    video['youtube_red_watch_time_hours'] = parse_int(video['youtube_red_watch_time_hours'])\n",
    "    video['annotation_clicks'] = parse_int(video['annotation_clicks'])\n",
    "    video['clickable_annotations_shown'] = parse_int(video['clickable_annotations_shown'])\n",
    "    \n",
    "    ## Potential Weird Behavior bc no % sign\n",
    "    video['annotation_click_through_rate'] = parse_float(video['annotation_click_through_rate'])\n",
    "    \n",
    "    video['annotation_closes'] = parse_int(video['annotation_closes'])\n",
    "    video['closable_annotations_shown'] = parse_int(video['closable_annotations_shown'])\n",
    "    video['annotation_close_rate'] = parse_float(video['annotation_close_rate'])\n",
    "    video['annotations_shown'] = parse_int(video['annotations_shown'])\n",
    "    video['likes'] = parse_int(video['likes'])\n",
    "    video['likes_added'] = parse_int(video['likes_added'])\n",
    "    video['likes_removed'] = parse_int(video['likes_removed'])\n",
    "    video['dislikes'] = parse_int(video['dislikes'])\n",
    "    video['dislikes_added'] = parse_int(video['dislikes_added'])\n",
    "    video['dislikes_removed'] = parse_int(video['dislikes_removed'])\n",
    "    video['shares'] = parse_int(video['shares'])\n",
    "    video['comments'] = parse_int(video['comments'])\n",
    "    video['videos_in_playlists'] = parse_int(video['videos_in_playlists'])\n",
    "    video['videos_added_to_playlists'] = parse_int(video['videos_added_to_playlists'])\n",
    "    video['videos_removed_from_playlists'] = parse_int(video['videos_removed_from_playlists'])\n",
    "    video['average_percentage_viewed'] = parse_percentage(video['average_percentage_viewed'])\n",
    "    video['watch_time_hours'] = parse_int(video['watch_time_hours'])\n"
   ]
  },
  {
   "cell_type": "code",
   "execution_count": 28,
   "metadata": {},
   "outputs": [
    {
     "data": {
      "text/plain": [
       "OrderedDict([('video_title', '100 Humans: What Do You Love About Yourself?'),\n",
       "             ('video_id', 'CJN-D6kdvws'),\n",
       "             ('series', '100 Humans'),\n",
       "             ('video_length_minutes', 2.47),\n",
       "             ('video_created', datetime.datetime(2017, 5, 7, 0, 0)),\n",
       "             ('views', 104404),\n",
       "             ('subscribers_gained', 159),\n",
       "             ('% subscriber conversion', 0.0015229999999999998),\n",
       "             ('average_view_duration', 1.8),\n",
       "             ('watch_time_minutes', 191746),\n",
       "             ('% average_percentage_viewed', 0.7445999999999999),\n",
       "             ('card_clicks', 2),\n",
       "             ('cards_shown', 5),\n",
       "             ('% clicks_per_card_shown', 0.4),\n",
       "             ('card_teaser_clicks', 5),\n",
       "             ('card_teasers_shown', 3246),\n",
       "             ('% clicks_per_card_teaser_shown', 0.0015),\n",
       "             ('end_screen_elements_shown', 117839),\n",
       "             ('end_screen_element_clicks', 3454),\n",
       "             ('% clicks_per_end_screen_element_shown', 0.029300000000000003),\n",
       "             ('estimated_monetized_playbacks', 33162),\n",
       "             ('ad_impressions', 37607),\n",
       "             ('youtube_red_watch_time_hours', 45),\n",
       "             ('annotation_clicks', 1),\n",
       "             ('clickable_annotations_shown', 44931),\n",
       "             ('annotation_click_through_rate', 0.0),\n",
       "             ('annotation_closes', 39),\n",
       "             ('closable_annotations_shown', 0),\n",
       "             ('annotation_close_rate', 0.0),\n",
       "             ('annotations_shown', 44931),\n",
       "             ('likes', 3621),\n",
       "             ('likes_added', 3708),\n",
       "             ('likes_removed', 87),\n",
       "             ('dislikes', 10),\n",
       "             ('dislikes_added', 24),\n",
       "             ('dislikes_removed', 14),\n",
       "             ('shares', 383),\n",
       "             ('comments', 65),\n",
       "             ('videos_in_playlists', 1300),\n",
       "             ('videos_added_to_playlists', 2769),\n",
       "             ('videos_removed_from_playlists', 1469),\n",
       "             ('average_percentage_viewed', 0.7445999999999999),\n",
       "             ('watch_time_hours', 3196)])"
      ]
     },
     "execution_count": 28,
     "metadata": {},
     "output_type": "execute_result"
    }
   ],
   "source": [
    "videos[0]"
   ]
  },
  {
   "cell_type": "code",
   "execution_count": null,
   "metadata": {},
   "outputs": [],
   "source": []
  }
 ],
 "metadata": {
  "kernelspec": {
   "display_name": "Python 3",
   "language": "python",
   "name": "python3"
  },
  "language_info": {
   "codemirror_mode": {
    "name": "ipython",
    "version": 3
   },
   "file_extension": ".py",
   "mimetype": "text/x-python",
   "name": "python",
   "nbconvert_exporter": "python",
   "pygments_lexer": "ipython3",
   "version": "3.6.5"
  }
 },
 "nbformat": 4,
 "nbformat_minor": 2
}
