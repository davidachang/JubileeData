{
 "cells": [
  {
   "cell_type": "markdown",
   "metadata": {},
   "source": [
    "## Jubilee Data Project"
   ]
  },
  {
   "cell_type": "code",
   "execution_count": 1,
   "metadata": {},
   "outputs": [],
   "source": [
    "import unicodecsv\n",
    "\n",
    "with open('videodata.csv', 'rb') as f:\n",
    "    reader = unicodecsv.DictReader(f)\n",
    "    videos = list(reader)"
   ]
  },
  {
   "cell_type": "code",
   "execution_count": 2,
   "metadata": {},
   "outputs": [
    {
     "name": "stdout",
     "output_type": "stream",
     "text": [
      "OrderedDict([('video_title', '100 Humans: What Do You Love About Yourself?'), ('video_id', 'CJN-D6kdvws'), ('series', '100 Humans'), ('video_length_minutes', '2.47'), ('video_created', '5/7/2017'), ('views', '104,404'), ('subscribers_gained', '159'), ('subscriber conversion', '656.63'), ('% subscriber conversion', '0.1523%'), ('average_view_duration', '1.8'), ('watch_time_minutes', '191746'), ('% average_percentage_viewed', '74.46%'), ('card_clicks', '2'), ('cards_shown', '5'), ('clicks_per_card_shown', '40'), ('% clicks_per_card_shown', '40.00%'), ('card_teaser_clicks', '5'), ('card_teasers_shown', '3246'), ('clicks_per_card_teaser_shown', '0.15'), ('% clicks_per_card_teaser_shown', '0.15%'), ('end_screen_elements_shown', '117839'), ('end_screen_element_clicks', '3454'), ('clicks_per_end_screen_element_shown', '2.93'), ('% clicks_per_end_screen_element_shown', '2.93%'), ('estimated_monetized_playbacks', '33162'), ('ad_impressions', '37607'), ('youtube_red_watch_time_hours', '45'), ('annotation_clicks', '1'), ('clickable_annotations_shown', '44931'), ('annotation_click_through_rate', '0'), ('annotation_closes', '39'), ('closable_annotations_shown', '0'), ('annotation_close_rate', '0'), ('annotations_shown', '44931'), ('likes', '3621'), ('likes_added', '3708'), ('likes_removed', '87'), ('dislikes', '10'), ('dislikes_added', '24'), ('dislikes_removed', '14'), ('shares', '383'), ('comments', '65'), ('videos_in_playlists', '1300'), ('videos_added_to_playlists', '2769'), ('videos_removed_from_playlists', '1469'), ('average_percentage_viewed', '74.46'), ('', ''), ('watch_time_hours', '3196')])\n"
     ]
    }
   ],
   "source": [
    "print(videos[0])"
   ]
  },
  {
   "cell_type": "code",
   "execution_count": 7,
   "metadata": {},
   "outputs": [],
   "source": [
    "from datetime import datetime as dt\n",
    "\n",
    "# Takes a date as a string, and returns a Python datetime object. \n",
    "# If there is no date given, returns None\n",
    "    \n",
    "    \n",
    "def parse_date(date):\n",
    "    if date == '':\n",
    "        return None\n",
    "    else:\n",
    "        return dt.strptime(date, '%d/%m/%Y')\n",
    "    \n",
    "# Takes a string which is either an empty string or represents an integer,\n",
    "# and returns an int or None.\n",
    "def parse_float(i):\n",
    "    if i == '':\n",
    "        return None\n",
    "    else:\n",
    "        return float(i)"
   ]
  },
  {
   "cell_type": "code",
   "execution_count": null,
   "metadata": {},
   "outputs": [],
   "source": [
    "# TODO\n",
    "\n",
    "# Clean up the data types in the video table\n",
    "for video in videos:\n",
    "    video['cancel_date'] = parse_date(enrollment['cancel_date'])\n",
    "    video['days_to_cancel'] = parse_maybe_int(enrollment['days_to_cancel'])\n",
    "    video['is_canceled'] = enrollment['is_canceled'] == 'True'\n",
    "    video['is_udacity'] = enrollment['is_udacity'] == 'True'\n",
    "    video['join_date'] = parse_date(enrollment['join_date'])"
   ]
  }
 ],
 "metadata": {
  "kernelspec": {
   "display_name": "Python 3",
   "language": "python",
   "name": "python3"
  },
  "language_info": {
   "codemirror_mode": {
    "name": "ipython",
    "version": 3
   },
   "file_extension": ".py",
   "mimetype": "text/x-python",
   "name": "python",
   "nbconvert_exporter": "python",
   "pygments_lexer": "ipython3",
   "version": "3.6.5"
  }
 },
 "nbformat": 4,
 "nbformat_minor": 2
}
