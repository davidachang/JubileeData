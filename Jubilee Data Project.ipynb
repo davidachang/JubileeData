{
 "cells": [
  {
   "cell_type": "markdown",
   "metadata": {},
   "source": [
    "## Jubilee Data Project"
   ]
  },
  {
   "cell_type": "code",
   "execution_count": 1,
   "metadata": {},
   "outputs": [],
   "source": [
    "import unicodecsv\n",
    "from collections import OrderedDict\n",
    "\n",
    "with open('videodata.csv', 'rb') as f:\n",
    "    reader = unicodecsv.DictReader(f)\n",
    "    videos = list(reader)"
   ]
  },
  {
   "cell_type": "code",
   "execution_count": 7,
   "metadata": {},
   "outputs": [
    {
     "name": "stdout",
     "output_type": "stream",
     "text": [
      "2017-07-05 00:00:00\n",
      "5/14/2017\n",
      "5/16/2017\n",
      "0.0015229999999999998\n",
      "0.1240%\n",
      "0.2099%\n"
     ]
    }
   ],
   "source": [
    "print(videos[0]['video_created'])\n",
    "print(videos[1]['video_created'])\n",
    "print(videos[2]['video_created'])\n",
    "\n",
    "print(videos[0]['% subscriber conversion'])\n",
    "print(videos[1]['% subscriber conversion'])\n",
    "print(videos[2]['% subscriber conversion'])"
   ]
  },
  {
   "cell_type": "code",
   "execution_count": 16,
   "metadata": {},
   "outputs": [
    {
     "data": {
      "text/plain": [
       "datetime.datetime(2017, 5, 14, 0, 0)"
      ]
     },
     "execution_count": 16,
     "metadata": {},
     "output_type": "execute_result"
    }
   ],
   "source": [
    "from datetime import datetime as dt\n",
    "\n",
    "dt.strptime((videos[1]['video_created']), '%m/%d/%Y')"
   ]
  },
  {
   "cell_type": "code",
   "execution_count": 4,
   "metadata": {},
   "outputs": [],
   "source": [
    "from datetime import datetime as dt\n",
    "\n",
    "# Takes a date as a string, and returns a Python datetime object. \n",
    "# If there is no date given, returns None\n",
    "def parse_date(date):\n",
    "    if date == '':\n",
    "        return None\n",
    "    else:\n",
    "        return dt.strptime(date, '%d/%m/%Y')\n",
    "    \n",
    "# Takes a string which is either an empty string or represents an integer,\n",
    "# and returns an int or None.\n",
    "def parse_float(f):\n",
    "    if f == '':\n",
    "        return None\n",
    "    else:\n",
    "        return float(f.replace(',',''))\n",
    "\n",
    "# Takes a string which is either an empty string or represents an integer,\n",
    "# and returns an int or None.\n",
    "def parse_int(i):\n",
    "    if i == '':\n",
    "        return None\n",
    "    else:\n",
    "        return int(i.replace(',',''))\n",
    "    \n",
    "# Takes a string which is either an empty string or represents an integer,\n",
    "# and returns an int or None.\n",
    "\n",
    "def parse_percentage(p):\n",
    "    if p == '':\n",
    "        return None\n",
    "    else:\n",
    "        return float(p.strip('%'))/100"
   ]
  },
  {
   "cell_type": "code",
   "execution_count": 5,
   "metadata": {},
   "outputs": [],
   "source": [
    "## Cleanup on extra rows that are not needed\n",
    "\n",
    "for v in videos:\n",
    "    v.pop('clicks_per_card_shown',None)\n",
    "    v.pop('clicks_per_card_teaser_shown',None)\n",
    "    v.pop('clicks_per_end_screen_element_shown',None)\n",
    "    v.pop('subscriber conversion',None)\n",
    "    v.pop(\"\",None)"
   ]
  },
  {
   "cell_type": "code",
   "execution_count": 6,
   "metadata": {},
   "outputs": [
    {
     "ename": "ValueError",
     "evalue": "time data '5/14/2017' does not match format '%d/%m/%Y'",
     "output_type": "error",
     "traceback": [
      "\u001b[0;31m---------------------------------------------------------------------------\u001b[0m",
      "\u001b[0;31mValueError\u001b[0m                                Traceback (most recent call last)",
      "\u001b[0;32m<ipython-input-6-d730ca282c27>\u001b[0m in \u001b[0;36m<module>\u001b[0;34m()\u001b[0m\n\u001b[1;32m      4\u001b[0m \u001b[0;32mfor\u001b[0m \u001b[0mvideo\u001b[0m \u001b[0;32min\u001b[0m \u001b[0mvideos\u001b[0m\u001b[0;34m:\u001b[0m\u001b[0;34m\u001b[0m\u001b[0m\n\u001b[1;32m      5\u001b[0m     \u001b[0mvideo\u001b[0m\u001b[0;34m[\u001b[0m\u001b[0;34m'video_length_minutes'\u001b[0m\u001b[0;34m]\u001b[0m \u001b[0;34m=\u001b[0m \u001b[0mparse_float\u001b[0m\u001b[0;34m(\u001b[0m\u001b[0mvideo\u001b[0m\u001b[0;34m[\u001b[0m\u001b[0;34m'video_length_minutes'\u001b[0m\u001b[0;34m]\u001b[0m\u001b[0;34m)\u001b[0m\u001b[0;34m\u001b[0m\u001b[0m\n\u001b[0;32m----> 6\u001b[0;31m     \u001b[0mvideo\u001b[0m\u001b[0;34m[\u001b[0m\u001b[0;34m'video_created'\u001b[0m\u001b[0;34m]\u001b[0m \u001b[0;34m=\u001b[0m \u001b[0mparse_date\u001b[0m\u001b[0;34m(\u001b[0m\u001b[0mvideo\u001b[0m\u001b[0;34m[\u001b[0m\u001b[0;34m'video_created'\u001b[0m\u001b[0;34m]\u001b[0m\u001b[0;34m)\u001b[0m\u001b[0;34m\u001b[0m\u001b[0m\n\u001b[0m\u001b[1;32m      7\u001b[0m     \u001b[0mvideo\u001b[0m\u001b[0;34m[\u001b[0m\u001b[0;34m'views'\u001b[0m\u001b[0;34m]\u001b[0m \u001b[0;34m=\u001b[0m \u001b[0mparse_int\u001b[0m\u001b[0;34m(\u001b[0m\u001b[0mvideo\u001b[0m\u001b[0;34m[\u001b[0m\u001b[0;34m'views'\u001b[0m\u001b[0;34m]\u001b[0m\u001b[0;34m)\u001b[0m\u001b[0;34m\u001b[0m\u001b[0m\n\u001b[1;32m      8\u001b[0m     \u001b[0mvideo\u001b[0m\u001b[0;34m[\u001b[0m\u001b[0;34m'subscribers_gained'\u001b[0m\u001b[0;34m]\u001b[0m \u001b[0;34m=\u001b[0m \u001b[0mparse_int\u001b[0m\u001b[0;34m(\u001b[0m\u001b[0mvideo\u001b[0m\u001b[0;34m[\u001b[0m\u001b[0;34m'subscribers_gained'\u001b[0m\u001b[0;34m]\u001b[0m\u001b[0;34m)\u001b[0m\u001b[0;34m\u001b[0m\u001b[0m\n",
      "\u001b[0;32m<ipython-input-4-12486c81bc2d>\u001b[0m in \u001b[0;36mparse_date\u001b[0;34m(date)\u001b[0m\n\u001b[1;32m      7\u001b[0m         \u001b[0;32mreturn\u001b[0m \u001b[0;32mNone\u001b[0m\u001b[0;34m\u001b[0m\u001b[0m\n\u001b[1;32m      8\u001b[0m     \u001b[0;32melse\u001b[0m\u001b[0;34m:\u001b[0m\u001b[0;34m\u001b[0m\u001b[0m\n\u001b[0;32m----> 9\u001b[0;31m         \u001b[0;32mreturn\u001b[0m \u001b[0mdt\u001b[0m\u001b[0;34m.\u001b[0m\u001b[0mstrptime\u001b[0m\u001b[0;34m(\u001b[0m\u001b[0mdate\u001b[0m\u001b[0;34m,\u001b[0m \u001b[0;34m'%d/%m/%Y'\u001b[0m\u001b[0;34m)\u001b[0m\u001b[0;34m\u001b[0m\u001b[0m\n\u001b[0m\u001b[1;32m     10\u001b[0m \u001b[0;34m\u001b[0m\u001b[0m\n\u001b[1;32m     11\u001b[0m \u001b[0;31m# Takes a string which is either an empty string or represents an integer,\u001b[0m\u001b[0;34m\u001b[0m\u001b[0;34m\u001b[0m\u001b[0m\n",
      "\u001b[0;32m/anaconda3/lib/python3.6/_strptime.py\u001b[0m in \u001b[0;36m_strptime_datetime\u001b[0;34m(cls, data_string, format)\u001b[0m\n\u001b[1;32m    563\u001b[0m     \"\"\"Return a class cls instance based on the input string and the\n\u001b[1;32m    564\u001b[0m     format string.\"\"\"\n\u001b[0;32m--> 565\u001b[0;31m     \u001b[0mtt\u001b[0m\u001b[0;34m,\u001b[0m \u001b[0mfraction\u001b[0m \u001b[0;34m=\u001b[0m \u001b[0m_strptime\u001b[0m\u001b[0;34m(\u001b[0m\u001b[0mdata_string\u001b[0m\u001b[0;34m,\u001b[0m \u001b[0mformat\u001b[0m\u001b[0;34m)\u001b[0m\u001b[0;34m\u001b[0m\u001b[0m\n\u001b[0m\u001b[1;32m    566\u001b[0m     \u001b[0mtzname\u001b[0m\u001b[0;34m,\u001b[0m \u001b[0mgmtoff\u001b[0m \u001b[0;34m=\u001b[0m \u001b[0mtt\u001b[0m\u001b[0;34m[\u001b[0m\u001b[0;34m-\u001b[0m\u001b[0;36m2\u001b[0m\u001b[0;34m:\u001b[0m\u001b[0;34m]\u001b[0m\u001b[0;34m\u001b[0m\u001b[0m\n\u001b[1;32m    567\u001b[0m     \u001b[0margs\u001b[0m \u001b[0;34m=\u001b[0m \u001b[0mtt\u001b[0m\u001b[0;34m[\u001b[0m\u001b[0;34m:\u001b[0m\u001b[0;36m6\u001b[0m\u001b[0;34m]\u001b[0m \u001b[0;34m+\u001b[0m \u001b[0;34m(\u001b[0m\u001b[0mfraction\u001b[0m\u001b[0;34m,\u001b[0m\u001b[0;34m)\u001b[0m\u001b[0;34m\u001b[0m\u001b[0m\n",
      "\u001b[0;32m/anaconda3/lib/python3.6/_strptime.py\u001b[0m in \u001b[0;36m_strptime\u001b[0;34m(data_string, format)\u001b[0m\n\u001b[1;32m    360\u001b[0m     \u001b[0;32mif\u001b[0m \u001b[0;32mnot\u001b[0m \u001b[0mfound\u001b[0m\u001b[0;34m:\u001b[0m\u001b[0;34m\u001b[0m\u001b[0m\n\u001b[1;32m    361\u001b[0m         raise ValueError(\"time data %r does not match format %r\" %\n\u001b[0;32m--> 362\u001b[0;31m                          (data_string, format))\n\u001b[0m\u001b[1;32m    363\u001b[0m     \u001b[0;32mif\u001b[0m \u001b[0mlen\u001b[0m\u001b[0;34m(\u001b[0m\u001b[0mdata_string\u001b[0m\u001b[0;34m)\u001b[0m \u001b[0;34m!=\u001b[0m \u001b[0mfound\u001b[0m\u001b[0;34m.\u001b[0m\u001b[0mend\u001b[0m\u001b[0;34m(\u001b[0m\u001b[0;34m)\u001b[0m\u001b[0;34m:\u001b[0m\u001b[0;34m\u001b[0m\u001b[0m\n\u001b[1;32m    364\u001b[0m         raise ValueError(\"unconverted data remains: %s\" %\n",
      "\u001b[0;31mValueError\u001b[0m: time data '5/14/2017' does not match format '%d/%m/%Y'"
     ]
    }
   ],
   "source": [
    "# TODO\n",
    "\n",
    "# Clean up the data types in the video table\n",
    "for video in videos:\n",
    "    video['video_length_minutes'] = parse_float(video['video_length_minutes'])    \n",
    "    video['video_created'] = parse_date(video['video_created'])\n",
    "    video['views'] = parse_int(video['views'])\n",
    "    video['subscribers_gained'] = parse_int(video['subscribers_gained'])\n",
    "    video['% subscriber conversion'] = parse_percentage(video['% subscriber conversion'])\n",
    "    video['average_view_duration'] = parse_float(video['average_view_duration'])\n",
    "    video['watch_time_minutes'] = parse_int(video['watch_time_minutes'])\n",
    "    video['% average_percentage_viewed'] = parse_percentage(video['% average_percentage_viewed'])\n",
    "    video['card_clicks'] = parse_int(video['card_clicks'])\n",
    "    video['cards_shown'] = parse_int(video['cards_shown'])\n",
    "    video['% clicks_per_card_shown'] = parse_percentage(video['% clicks_per_card_shown'])\n",
    "    video['card_teaser_clicks'] = parse_int(video['card_teaser_clicks'])\n",
    "    video['card_teasers_shown'] = parse_int(video['card_teasers_shown'])\n",
    "    video['% clicks_per_card_teaser_shown'] = parse_percentage(video['% clicks_per_card_teaser_shown'])\n",
    "    video['end_screen_elements_shown'] = parse_int(video['end_screen_elements_shown'])\n",
    "    video['end_screen_element_clicks'] = parse_int(video['end_screen_element_clicks'])\n",
    "    video['% clicks_per_end_screen_element_shown'] = parse_percentage(video['% clicks_per_end_screen_element_shown'])\n",
    "    video['estimated_monetized_playbacks'] = parse_int(video['estimated_monetized_playbacks'])\n",
    "    video['ad_impressions'] = parse_int(video['ad_impressions'])\n",
    "    video['youtube_red_watch_time_hours'] = parse_int(video['youtube_red_watch_time_hours'])\n",
    "    video['annotation_clicks'] = parse_int(video['annotation_clicks'])\n",
    "    video['clickable_annotations_shown'] = parse_int(video['clickable_annotations_shown'])\n",
    "    \n",
    "    ## Potential Weird Behavior bc no % sign\n",
    "    video['annotation_click_through_rate'] = parse_float(video['annotation_click_through_rate'])\n",
    "    \n",
    "    video['annotation_closes'] = parse_int(video['annotation_closes'])\n",
    "    video['closable_annotations_shown'] = parse_int(video['closable_annotations_shown'])\n",
    "    video['annotation_close_rate'] = parse_float(video['annotation_close_rate'])\n",
    "    video['annotations_shown'] = parse_int(video['annotations_shown'])\n",
    "    video['likes'] = parse_int(video['likes'])\n",
    "    video['likes_added'] = parse_int(video['likes_added'])\n",
    "    video['likes_removed'] = parse_int(video['likes_removed'])\n",
    "    video['dislikes'] = parse_int(video['dislikes'])\n",
    "    video['dislikes_added'] = parse_int(video['dislikes_added'])\n",
    "    video['dislikes_removed'] = parse_int(video['dislikes_removed'])\n",
    "    video['shares'] = parse_int(video['shares'])\n",
    "    video['comments'] = parse_int(video['comments'])\n",
    "    video['videos_in_playlists'] = parse_int(video['videos_in_playlists'])\n",
    "    video['videos_added_to_playlists'] = parse_int(video['videos_added_to_playlists'])\n",
    "    video['videos_removed_from_playlists'] = parse_int(video['videos_removed_from_playlists'])\n",
    "    video['average_percentage_viewed'] = parse_percentage(video['average_percentage_viewed'])\n",
    "    video['watch_time_hours'] = parse_int(video['watch_time_hours'])\n"
   ]
  },
  {
   "cell_type": "code",
   "execution_count": 89,
   "metadata": {},
   "outputs": [
    {
     "data": {
      "text/plain": [
       "OrderedDict([('video_title', '100 Humans: What Does Being In Love Feel Like?'),\n",
       "             ('video_id', 'DJfj-5fwikc'),\n",
       "             ('series', '100 Humans'),\n",
       "             ('video_length_minutes', 2.9),\n",
       "             ('video_created', '5/14/2017'),\n",
       "             ('views', '276,698'),\n",
       "             ('subscribers_gained', '343'),\n",
       "             ('% subscriber conversion', '0.1240%'),\n",
       "             ('average_view_duration', '1.9'),\n",
       "             ('watch_time_minutes', '537524'),\n",
       "             ('% average_percentage_viewed', '66.99%'),\n",
       "             ('card_clicks', '1'),\n",
       "             ('cards_shown', '9'),\n",
       "             ('% clicks_per_card_shown', '11.11%'),\n",
       "             ('card_teaser_clicks', '7'),\n",
       "             ('card_teasers_shown', '9987'),\n",
       "             ('% clicks_per_card_teaser_shown', '0.07%'),\n",
       "             ('end_screen_elements_shown', '251404'),\n",
       "             ('end_screen_element_clicks', '8088'),\n",
       "             ('% clicks_per_end_screen_element_shown', '3.22%'),\n",
       "             ('estimated_monetized_playbacks', '108501'),\n",
       "             ('ad_impressions', '120637'),\n",
       "             ('youtube_red_watch_time_hours', '121'),\n",
       "             ('annotation_clicks', '2'),\n",
       "             ('clickable_annotations_shown', '111663'),\n",
       "             ('annotation_click_through_rate', '0'),\n",
       "             ('annotation_closes', '180'),\n",
       "             ('closable_annotations_shown', '0'),\n",
       "             ('annotation_close_rate', '0'),\n",
       "             ('annotations_shown', '111663'),\n",
       "             ('likes', '6270'),\n",
       "             ('likes_added', '6440'),\n",
       "             ('likes_removed', '170'),\n",
       "             ('dislikes', '55'),\n",
       "             ('dislikes_added', '79'),\n",
       "             ('dislikes_removed', '24'),\n",
       "             ('shares', '846'),\n",
       "             ('comments', '146'),\n",
       "             ('videos_in_playlists', '3961'),\n",
       "             ('videos_added_to_playlists', '7677'),\n",
       "             ('videos_removed_from_playlists', '3716'),\n",
       "             ('average_percentage_viewed', '66.99'),\n",
       "             ('watch_time_hours', '8959')])"
      ]
     },
     "execution_count": 89,
     "metadata": {},
     "output_type": "execute_result"
    }
   ],
   "source": [
    "videos[1]"
   ]
  },
  {
   "cell_type": "code",
   "execution_count": null,
   "metadata": {},
   "outputs": [],
   "source": []
  }
 ],
 "metadata": {
  "kernelspec": {
   "display_name": "Python 3",
   "language": "python",
   "name": "python3"
  },
  "language_info": {
   "codemirror_mode": {
    "name": "ipython",
    "version": 3
   },
   "file_extension": ".py",
   "mimetype": "text/x-python",
   "name": "python",
   "nbconvert_exporter": "python",
   "pygments_lexer": "ipython3",
   "version": "3.6.5"
  }
 },
 "nbformat": 4,
 "nbformat_minor": 2
}
